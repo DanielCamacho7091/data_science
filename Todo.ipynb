{
 "cells": [
  {
   "cell_type": "markdown",
   "metadata": {},
   "source": [
    "#TODO\n",
    "\n",
    "-   PowerBI\n",
    "-   LLMs (con tutorial de deeplearning.ai)\n",
    "-   OpenStreetMap + libreria network - codigo en lo de Quipu\n",
    "-   Series de tiempo XGB con pdf en grupo amigos \n",
    "-   Clasificación con XGB\n",
    "-   Código de SQL con data de Colsubsidio puede ser (?)"
   ]
  }
 ],
 "metadata": {
  "language_info": {
   "name": "python"
  }
 },
 "nbformat": 4,
 "nbformat_minor": 2
}
